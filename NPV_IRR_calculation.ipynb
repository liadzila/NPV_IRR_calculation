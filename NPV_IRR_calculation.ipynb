{
  "nbformat": 4,
  "nbformat_minor": 0,
  "metadata": {
    "colab": {
      "provenance": []
    },
    "kernelspec": {
      "name": "python3",
      "display_name": "Python 3"
    },
    "language_info": {
      "name": "python"
    }
  },
  "cells": [
    {
      "cell_type": "code",
      "source": [
        "from math import exp\n",
        "from sympy import *\n",
        "d = symbols('d', real = True)\n",
        "from sympy import roots, solve_poly_system"
      ],
      "metadata": {
        "id": "01MvvLYjfr2I"
      },
      "execution_count": null,
      "outputs": []
    },
    {
      "cell_type": "code",
      "execution_count": null,
      "metadata": {
        "id": "Wl-kYAaOehG_",
        "colab": {
          "base_uri": "https://localhost:8080/"
        },
        "outputId": "93e9654f-9d28-4b58-829a-0b43f4349c9d"
      },
      "outputs": [
        {
          "name": "stdout",
          "output_type": "stream",
          "text": [
            "Write face value of the bond:100\n",
            "Write the way of percent calculation (simple / compound):simple\n",
            "Write coupon rate in %:10\n",
            "Write maturity:1\n",
            "Write discount rate in %:10\n"
          ]
        }
      ],
      "source": [
        "face_value = float(input(\"Write face value of the bond:\"))\n",
        "percent_calc = input(\"Write the way of percent calculation (simple / compound):\")\n",
        "if percent_calc == \"compound\":\n",
        "  flag = 0\n",
        "  period = int(input(\"Write compoud frequency from the parentheses: daily(365) / monthly(12) / quarterly(4) / semi-annualy(2) / continuous(1)\"))\n",
        "coupon_rate = float(input(\"Write coupon rate in %:\"))\n",
        "maturity = int(input(\"Write maturity:\"))\n",
        "discount_rate = float(input(\"Write discount rate in %:\"))\n",
        "coupon_rate = coupon_rate / 100\n",
        "discount_rate = discount_rate / 100"
      ]
    },
    {
      "cell_type": "code",
      "source": [
        "def NPV_IRR(percent_calc, maturity, coupon_rate, face_value, discount_rate):\n",
        "  sum_CF_irr = 0\n",
        "  sum_CF_npv = 0\n",
        "  if percent_calc == \"simple\":\n",
        "    for i in range(1, maturity + 1):\n",
        "      sum_CF_irr += ((coupon_rate) * face_value) / ((1 + (d / 100)) ** i)\n",
        "      sum_CF_npv += ((coupon_rate) * face_value) / ((1 + (discount_rate)) ** i)\n",
        "    NPV = -face_value + sum_CF_npv + face_value / ((1 + (discount_rate)) ** maturity)\n",
        "    IRR = solve(sum_CF_irr - face_value + face_value / ((1 + (d / 100)) ** i), d)\n",
        "    print(\"IRR is\", max(IRR), \"%\")\n",
        "    print(\"NPV is\", NPV)\n",
        "  else:\n",
        "    if period == 1:\n",
        "      EAR = exp(coupon_rate) - 1\n",
        "    else:\n",
        "      EAR = (1 + (coupon_rate) / period) ** period - 1\n",
        "    for i in range(1, maturity + 1):\n",
        "      sum_CF_irr += (face_value * EAR) / ((1 + (d / 100)) ** i)\n",
        "      sum_CF_npv += (face_value * EAR) / ((1 + (discount_rate)) ** i)\n",
        "    NPV = -face_value + sum_CF_npv + face_value / ((1 + (discount_rate)) ** maturity)\n",
        "    IRR = solve(sum_CF_irr - face_value + face_value / ((1 + (d / 100)) ** i), d)\n",
        "    print(\"IRR is\", max(IRR), \"%\")\n",
        "    print(\"NPV is\", NPV)"
      ],
      "metadata": {
        "id": "ZsGDQ61ZpW-P"
      },
      "execution_count": null,
      "outputs": []
    },
    {
      "cell_type": "code",
      "source": [
        "NPV_IRR(percent_calc, maturity, coupon_rate, face_value, discount_rate)"
      ],
      "metadata": {
        "colab": {
          "base_uri": "https://localhost:8080/"
        },
        "id": "LfPZX6w09D0g",
        "outputId": "1f73b383-dd3d-4789-c41a-f01d2bea4cc7"
      },
      "execution_count": null,
      "outputs": [
        {
          "output_type": "stream",
          "name": "stdout",
          "text": [
            "9.09090909090909\n",
            "IRR is 10.0000000000000 %\n",
            "NPV is 0.0\n"
          ]
        }
      ]
    }
  ]
}